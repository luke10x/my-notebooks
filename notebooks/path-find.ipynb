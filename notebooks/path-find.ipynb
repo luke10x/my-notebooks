{
    "cells": [
        {
            "cell_type": "code",
            "execution_count": 68,
            "source": [
                "import numpy as np\n",
                "# import math\n",
                "\n",
                "size = 10\n",
                "\n",
                "# data = np.floor(np.random.rand(size, size) * 1.5).astype(int)\n",
                "data = np.array([[1, 0, 1, 0, 1, 0, 0, 0, 0, 0],\n",
                "       [0, 0, 0, 0, 0, 1, 0, 1, 0, 1],\n",
                "       [1, 1, 0, 0, 0, 0, 1, 0, 1, 0],\n",
                "       [0, 1, 0, 0, 1, 0, 0, 1, 0, 0],\n",
                "       [0, 0, 0, 0, 0, 0, 0, 0, 1, 1],\n",
                "       [0, 0, 0, 0, 1, 1, 0, 0, 0, 1],\n",
                "       [1, 1, 0, 0, 0, 0, 1, 0, 0, 0],\n",
                "       [0, 0, 0, 0, 0, 1, 0, 0, 0, 0],\n",
                "       [1, 0, 1, 0, 0, 0, 1, 1, 0, 0],\n",
                "       [1, 1, 0, 0, 0, 0, 0, 0, 1, 1]])\n",
                "\n",
                "data[3, 0] = 2\n",
                "data[7, 6] = 3\n",
                "\n",
                "data"
            ],
            "outputs": [
                {
                    "output_type": "execute_result",
                    "data": {
                        "text/plain": [
                            "array([[1, 0, 1, 0, 1, 0, 0, 0, 0, 0],\n",
                            "       [0, 0, 0, 0, 0, 1, 0, 1, 0, 1],\n",
                            "       [1, 1, 0, 0, 0, 0, 1, 0, 1, 0],\n",
                            "       [2, 1, 0, 0, 1, 0, 0, 1, 0, 0],\n",
                            "       [0, 0, 0, 0, 0, 0, 0, 0, 1, 1],\n",
                            "       [0, 0, 0, 0, 1, 1, 0, 0, 0, 1],\n",
                            "       [1, 1, 0, 0, 0, 0, 1, 0, 0, 0],\n",
                            "       [0, 0, 0, 0, 0, 1, 3, 0, 0, 0],\n",
                            "       [1, 0, 1, 0, 0, 0, 1, 1, 0, 0],\n",
                            "       [1, 1, 0, 0, 0, 0, 0, 0, 1, 1]])"
                        ]
                    },
                    "metadata": {},
                    "execution_count": 68
                }
            ],
            "metadata": {}
        },
        {
            "cell_type": "code",
            "execution_count": 69,
            "source": [
                "from matplotlib import pyplot\n",
                "\n",
                "pyplot.figure(figsize=(5,5))\n",
                "pyplot.imshow(data)\n",
                "pyplot.show()\n"
            ],
            "outputs": [
                {
                    "output_type": "display_data",
                    "data": {
                        "text/plain": [
                            "<Figure size 360x360 with 1 Axes>"
                        ],
                        "image/png": "[encoded data removed]"
                    },
                    "metadata": {
                        "needs_background": "light"
                    }
                }
            ],
            "metadata": {}
        }
    ],
    "metadata": {
        "orig_nbformat": 4,
        "language_info": {
            "name": "python",
            "version": "3.9.6",
            "mimetype": "text/x-python",
            "codemirror_mode": {
                "name": "ipython",
                "version": 3
            },
            "pygments_lexer": "ipython3",
            "nbconvert_exporter": "python",
            "file_extension": ".py"
        },
        "kernelspec": {
            "name": "python3",
            "display_name": "Python 3.9.6 64-bit"
        },
        "interpreter": {
            "hash": "557a18d3771e87cd6171794247ecadadb4079226eb67232a279f00ab8d78f4ce"
        }
    },
    "nbformat": 4,
    "nbformat_minor": 2
}